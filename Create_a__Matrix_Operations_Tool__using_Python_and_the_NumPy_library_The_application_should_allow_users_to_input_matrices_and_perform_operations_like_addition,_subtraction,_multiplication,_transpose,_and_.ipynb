{
  "nbformat": 4,
  "nbformat_minor": 0,
  "metadata": {
    "colab": {
      "provenance": []
    },
    "kernelspec": {
      "name": "python3",
      "display_name": "Python 3"
    },
    "language_info": {
      "name": "python"
    }
  },
  "cells": [
    {
      "cell_type": "code",
      "execution_count": null,
      "metadata": {
        "colab": {
          "base_uri": "https://localhost:8080/"
        },
        "id": "AJt6QtpL4OeE",
        "outputId": "d311f885-e398-40f2-eec2-a5e8e10b309b"
      },
      "outputs": [
        {
          "output_type": "stream",
          "name": "stdout",
          "text": [
            "Requirement already satisfied: numpy in /usr/local/lib/python3.11/dist-packages (2.0.2)\n"
          ]
        }
      ],
      "source": [
        "pip install numpy"
      ]
    },
    {
      "cell_type": "code",
      "source": [
        "import numpy as np\n",
        "\n",
        "def input_matrix(name=\"Matrix\"):\n",
        "    \"\"\"\n",
        "    Function to take input from the user for matrix creation.\n",
        "    Returns the matrix as a NumPy array.\n",
        "    \"\"\"\n",
        "    print(f\"Enter the dimensions of {name} (rows, columns):\")\n",
        "    rows, cols = map(int, input().split())\n",
        "\n",
        "    print(f\"Enter the elements of {name} row by row:\")\n",
        "    elements = []\n",
        "    for _ in range(rows):\n",
        "        row = list(map(float, input().split()))\n",
        "        elements.append(row)\n",
        "\n",
        "    matrix = np.array(elements)\n",
        "    print(f\"{name} Matrix:\\n\", matrix)\n",
        "    return matrix\n",
        "\n",
        "def matrix_addition(matrix1, matrix2):\n",
        "    if matrix1.shape == matrix2.shape:\n",
        "        return matrix1 + matrix2\n",
        "    else:\n",
        "        print(\"Error: Matrices must have the same shape for addition.\")\n",
        "        return None\n",
        "\n",
        "def matrix_subtraction(matrix1, matrix2):\n",
        "    if matrix1.shape == matrix2.shape:\n",
        "        return matrix1 - matrix2\n",
        "    else:\n",
        "        print(\"Error: Matrices must have the same shape for subtraction.\")\n",
        "        return None\n",
        "\n",
        "def matrix_multiplication(matrix1, matrix2):\n",
        "    if matrix1.shape[1] == matrix2.shape[0]:\n",
        "        return np.dot(matrix1, matrix2)\n",
        "    else:\n",
        "        print(\"Error: Number of columns in the first matrix must equal the number of rows in the second matrix for multiplication.\")\n",
        "        return None\n",
        "\n",
        "def matrix_transpose(matrix):\n",
        "    return matrix.T\n",
        "\n",
        "def matrix_determinant(matrix):\n",
        "    if matrix.shape[0] == matrix.shape[1]:  # Check if it's a square matrix\n",
        "        return np.linalg.det(matrix)\n",
        "    else:\n",
        "        print(\"Error: Determinant can only be calculated for square matrices.\")\n",
        "        return None\n",
        "\n",
        "def print_matrix_result(operation, result):\n",
        "    if result is not None:\n",
        "        print(f\"{operation} Result:\\n{result}\\n\")\n",
        "    else:\n",
        "        print(f\"{operation} could not be performed due to an error.\\n\")\n",
        "\n",
        "def main():\n",
        "    print(\"Welcome to the Matrix Operations Tool!\")\n",
        "\n",
        "    # Get matrices from the user\n",
        "    matrix1 = input_matrix(\"Matrix 1\")\n",
        "    matrix2 = input_matrix(\"Matrix 2\")\n",
        "\n",
        "    # Matrix Addition\n",
        "    result = matrix_addition(matrix1, matrix2)\n",
        "    print_matrix_result(\"Matrix Addition\", result)\n",
        "\n",
        "    # Matrix Subtraction\n",
        "    result = matrix_subtraction(matrix1, matrix2)\n",
        "    print_matrix_result(\"Matrix Subtraction\", result)\n",
        "\n",
        "    # Matrix Multiplication\n",
        "    result = matrix_multiplication(matrix1, matrix2)\n",
        "    print_matrix_result(\"Matrix Multiplication\", result)\n",
        "\n",
        "    # Matrix Transpose for Matrix 1\n",
        "    result = matrix_transpose(matrix1)\n",
        "    print_matrix_result(\"Matrix 1 Transpose\", result)\n",
        "\n",
        "    # Matrix Transpose for Matrix 2\n",
        "    result = matrix_transpose(matrix2)\n",
        "    print_matrix_result(\"Matrix 2 Transpose\", result)\n",
        "\n",
        "    # Matrix Determinant for Matrix 1\n",
        "    result = matrix_determinant(matrix1)\n",
        "    if result is not None:\n",
        "        print(f\"Determinant of Matrix 1: {result}\")\n",
        "\n",
        "    # Matrix Determinant for Matrix 2\n",
        "    result = matrix_determinant(matrix2)\n",
        "    if result is not None:\n",
        "        print(f\"Determinant of Matrix 2: {result}\")\n",
        "\n",
        "if __name__ == \"__main__\":\n",
        "    main()\n"
      ],
      "metadata": {
        "colab": {
          "base_uri": "https://localhost:8080/"
        },
        "id": "lTbm0uMo5XdA",
        "outputId": "dc607858-1b9d-42c1-d951-da83ca22b329"
      },
      "execution_count": null,
      "outputs": [
        {
          "output_type": "stream",
          "name": "stdout",
          "text": [
            "Welcome to the Matrix Operations Tool!\n",
            "Enter the dimensions of Matrix 1 (rows, columns):\n",
            " 2 2\n",
            "Enter the elements of Matrix 1 row by row:\n",
            "1 2\n",
            "3 4 \n",
            "Matrix 1 Matrix:\n",
            " [[1. 2.]\n",
            " [3. 4.]]\n",
            "Enter the dimensions of Matrix 2 (rows, columns):\n",
            "2 2\n",
            "Enter the elements of Matrix 2 row by row:\n",
            "5 6 \n",
            "7 8 \n",
            "Matrix 2 Matrix:\n",
            " [[5. 6.]\n",
            " [7. 8.]]\n",
            "Matrix Addition Result:\n",
            "[[ 6.  8.]\n",
            " [10. 12.]]\n",
            "\n",
            "Matrix Subtraction Result:\n",
            "[[-4. -4.]\n",
            " [-4. -4.]]\n",
            "\n",
            "Matrix Multiplication Result:\n",
            "[[19. 22.]\n",
            " [43. 50.]]\n",
            "\n",
            "Matrix 1 Transpose Result:\n",
            "[[1. 3.]\n",
            " [2. 4.]]\n",
            "\n",
            "Matrix 2 Transpose Result:\n",
            "[[5. 7.]\n",
            " [6. 8.]]\n",
            "\n",
            "Determinant of Matrix 1: -2.0000000000000004\n",
            "Determinant of Matrix 2: -2.000000000000005\n"
          ]
        }
      ]
    }
  ]
}